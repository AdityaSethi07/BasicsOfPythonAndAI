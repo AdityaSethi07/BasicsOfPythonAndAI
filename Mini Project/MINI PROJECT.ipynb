{
 "cells": [
  {
   "cell_type": "markdown",
   "metadata": {},
   "source": [
    "# VOICE RECOGNISING AI"
   ]
  },
  {
   "cell_type": "markdown",
   "metadata": {},
   "source": [
    "##### IMPORTANT LINKS\n",
    "\n",
    "1. speech recognition module: https://pypi.org/project/SpeechRecognition/\n",
    "\n",
    "\n",
    "2. pyAudio: https://pypi.org/project/PyAudio/\n",
    "\n",
    "    2.1 To resolve the issue with pyAudio\n",
    "       https://stackoverflow.com/questions/52283840/i-cant-install-pyaudio-on-windows-how-to-solve-error-microsoft-visual-c-14\n",
    "   \"\"\"\n",
    "   \n",
    "   -There is no wheel (prebuilt package) for Python 3.7 on Windows\n",
    "   \n",
    "   -Easier would be finding the wheel for 3.7 as some packages are quite       hard to build on Windows.\n",
    "    \n",
    "    Link: https://www.lfd.uci.edu/~gohlke/pythonlibs/#pyaudio\n",
    "    \n",
    "    Command: pip install PyAudio-0.2.11-cp37-cp37m-win_amd64.whl\n",
    "   \n",
    "   \"\"\"\n",
    "\n",
    "\n",
    "3. PySound: https://pypi.org/project/pysound/"
   ]
  },
  {
   "cell_type": "markdown",
   "metadata": {},
   "source": [
    "###  STEP 1: IMPORTING ALL THE MODULES"
   ]
  },
  {
   "cell_type": "code",
   "execution_count": 6,
   "metadata": {},
   "outputs": [],
   "source": [
    "import speech_recognition as sr\n",
    "from playsound import playsound\n",
    "import time\n",
    "import re"
   ]
  },
  {
   "cell_type": "markdown",
   "metadata": {},
   "source": [
    "### STEP 2: CAPTURING VOICE AND USING GOOGLE ENGINE TO CONVERT IT TO TEXT"
   ]
  },
  {
   "cell_type": "code",
   "execution_count": 7,
   "metadata": {},
   "outputs": [],
   "source": [
    "def speech():\n",
    "    r = sr.Recognizer()\n",
    "\n",
    "    #audio = r'audio.wav'\n",
    "\n",
    "    with sr.Microphone() as source:\n",
    "        print(\"Say something\")\n",
    "        audio = r.record(source,duration=5)\n",
    "        \n",
    "        print(\"Done\")\n",
    "\n",
    "    try:\n",
    "        text = r.recognize_google(audio)\n",
    "        return text\n",
    "    except Exception as e:\n",
    "        print(e)\n",
    "\n"
   ]
  },
  {
   "cell_type": "markdown",
   "metadata": {},
   "source": [
    "### STEP 3: IMPLEMENTING PATTERN MATCHING "
   ]
  },
  {
   "cell_type": "code",
   "execution_count": 8,
   "metadata": {},
   "outputs": [],
   "source": [
    "def sampling():\n",
    "    # flagF, flagB, flagR, flagL  = 0 , 0, 0, 0\n",
    "    string = speech()\n",
    "    \n",
    "    print(string)\n",
    "\n",
    "    regex = re.compile(r'Godzilla|English lexicon|Hindi lexicon|recite poem')\n",
    "    try:\n",
    "        mo1 = regex.search(string)\n",
    "        #print(mo1.group())\n",
    "    except Exception:\n",
    "        print(\"i'm sorry i didn't catch that: \")\n",
    "        #string = speech()\n",
    "    try:\n",
    "        if mo1.group() == 'Godzilla':\n",
    "            playsound(r'Sure.mp3')\n",
    "            return 1\n",
    "        elif mo1.group() == 'English lexicon':\n",
    "            playsound(r'Sure.mp3')\n",
    "            return 2\n",
    "        elif mo1.group() == 'Hindi lexicon':    \n",
    "            playsound(r'Sure.mp3')\n",
    "            return 3\n",
    "        elif mo1.group() == 'recite poem':    \n",
    "            playsound(r'Sure.mp3')\n",
    "            return 4\n",
    "        else:\n",
    "            return 0\n",
    "    except Exception:\n",
    "        return 0\n"
   ]
  },
  {
   "cell_type": "markdown",
   "metadata": {},
   "source": [
    "### STEP 4: BASED ON THE MATCHED PATTERN, PERFORMING THE CORRECT ACTION"
   ]
  },
  {
   "cell_type": "code",
   "execution_count": 10,
   "metadata": {
    "scrolled": true
   },
   "outputs": [
    {
     "name": "stdout",
     "output_type": "stream",
     "text": [
      "Say something\n"
     ]
    },
    {
     "ename": "KeyboardInterrupt",
     "evalue": "",
     "output_type": "error",
     "traceback": [
      
     ]
    }
   ],
   "source": [
    "\n",
    "flag = sampling()\n",
    "print(flag)\n",
    "if flag == 0:\n",
    "    time.sleep(1)\n",
    "    playsound(r'repeat.mp3')\n",
    "elif flag == 1:\n",
    "    time.sleep(1)\n",
    "    playsound(r'godzilla.mp3')\n",
    "elif flag == 2:\n",
    "    time.sleep(1)\n",
    "    playsound(r'abcd1.wav')\n",
    "elif flag == 3:\n",
    "    time.sleep(1)\n",
    "    playsound(r'varn1.wav')\n",
    "elif flag == 4:\n",
    "    time.sleep(1)\n",
    "    playsound(r'baby1.wav')"
   ]
  },
  {
   "cell_type": "code",
   "execution_count": null,
   "metadata": {},
   "outputs": [],
   "source": []
  },
  {
   "cell_type": "code",
   "execution_count": null,
   "metadata": {},
   "outputs": [],
   "source": []
  },
  {
   "cell_type": "markdown",
   "metadata": {},
   "source": [
    "### OPTIONAL STEP: MAKING YOUR OWN SOUND SNIPPETS\n",
    "\n",
    "Copy/Paste the Code Below to use it"
   ]
  },
  {
   "cell_type": "raw",
   "metadata": {},
   "source": [
    "from gtts import gTTS\n",
    "mytext = 'Repeat karo'\n",
    "  \n",
    "# Language in which you want to convert \n",
    "language = 'en'\n",
    "  \n",
    "# Passing the text and language to the engine,  \n",
    "# here we have marked slow=False. Which tells  \n",
    "# the module that the converted audio should  \n",
    "# have a high speed \n",
    "myobj = gTTS(text=mytext, lang=language, slow=False) \n",
    "  \n",
    "# Saving the converted audio in a mp3 file named \n",
    "# welcome  \n",
    "myobj.save(\"repeat.mp3\") \n",
    "\n",
    "\n",
    "\"\"\"\n",
    "TO KNOW MORE READ THE DOCUMENTATION of gTTS AVAILBLE ONLINE\n",
    "\"\"\""
   ]
  },
  {
   "cell_type": "code",
   "execution_count": null,
   "metadata": {},
   "outputs": [],
   "source": []
  },
  {
   "cell_type": "code",
   "execution_count": null,
   "metadata": {},
   "outputs": [],
   "source": []
  },
  {
   "cell_type": "code",
   "execution_count": null,
   "metadata": {},
   "outputs": [],
   "source": []
  },
  {
   "cell_type": "code",
   "execution_count": null,
   "metadata": {},
   "outputs": [],
   "source": []
  }
 ],
 "metadata": {
  "kernelspec": {
   "display_name": "Python 3",
   "language": "python",
   "name": "python3"
  },
  "language_info": {
   "codemirror_mode": {
    "name": "ipython",
    "version": 3
   },
   "file_extension": ".py",
   "mimetype": "text/x-python",
   "name": "python",
   "nbconvert_exporter": "python",
   "pygments_lexer": "ipython3",
   "version": "3.7.3"
  }
 },
 "nbformat": 4,
 "nbformat_minor": 2
}
