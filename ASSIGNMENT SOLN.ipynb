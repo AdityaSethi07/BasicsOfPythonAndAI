{
 "cells": [
  {
   "cell_type": "markdown",
   "metadata": {},
   "source": [
    "### Write a program to print all the natural numbers from 1 to n (user input). Then print the same in reverse order.\n"
   ]
  },
  {
   "cell_type": "code",
   "execution_count": 4,
   "metadata": {},
   "outputs": [
    {
     "name": "stdout",
     "output_type": "stream",
     "text": [
      "13\n",
      "numbers in increasing order\n",
      "1, 2, 3, 4, 5, 6, 7, 8, 9, 10, 11, 12, 13, \n",
      "numbers in decreasing order\n",
      "13, 12, 11, 10, 9, 8, 7, 6, 5, 4, 3, 2, 1, "
     ]
    }
   ],
   "source": [
    "number = int(input())\n",
    "print(\"numbers in increasing order\")\n",
    "for i in range(1,number+1):\n",
    "    print(i,end=', ')\n",
    "print(\"\\nnumbers in decreasing order\")    \n",
    "for i in range(number,0,-1):\n",
    "    print(i,end=', ')"
   ]
  },
  {
   "cell_type": "markdown",
   "metadata": {},
   "source": [
    "### Print all odd numbers and even numbers between 1 to 100.\n"
   ]
  },
  {
   "cell_type": "code",
   "execution_count": 5,
   "metadata": {},
   "outputs": [
    {
     "name": "stdout",
     "output_type": "stream",
     "text": [
      "odd numbers between 1 to 100:\n",
      "1, 3, 5, 7, 9, 11, 13, 15, 17, 19, 21, 23, 25, 27, 29, 31, 33, 35, 37, 39, 41, 43, 45, 47, 49, 51, 53, 55, 57, 59, 61, 63, 65, 67, 69, 71, 73, 75, 77, 79, 81, 83, 85, 87, 89, 91, 93, 95, 97, 99, \n",
      "even numbers between 1 to 100:\n",
      "2, 4, 6, 8, 10, 12, 14, 16, 18, 20, 22, 24, 26, 28, 30, 32, 34, 36, 38, 40, 42, 44, 46, 48, 50, 52, 54, 56, 58, 60, 62, 64, 66, 68, 70, 72, 74, 76, 78, 80, 82, 84, 86, 88, 90, 92, 94, 96, 98, "
     ]
    }
   ],
   "source": [
    "print(\"odd numbers between 1 to 100:\")\n",
    "for i in range(1,100,2):\n",
    "    print(i,end=', ')\n",
    "print(\"\\neven numbers between 1 to 100:\")\n",
    "for i in range(2,100,2):\n",
    "    print(i,end=', ')"
   ]
  },
  {
   "cell_type": "markdown",
   "metadata": {},
   "source": [
    "### Write a program to print fibonacci series. (0,1,1,2,3,5,8,13,21,34..)\n"
   ]
  },
  {
   "cell_type": "code",
   "execution_count": 15,
   "metadata": {},
   "outputs": [
    {
     "name": "stdout",
     "output_type": "stream",
     "text": [
      "5\n",
      "0 1 1 2 3 "
     ]
    }
   ],
   "source": [
    "# SOLN NO. 1\n",
    "\n",
    "num1 = 0\n",
    "num2 = 1\n",
    "size = int(input())\n",
    "temp = 0\n",
    "\n",
    "if size==1:\n",
    "    print(num1)\n",
    "elif size==2:\n",
    "    print(num1,num2)\n",
    "else:\n",
    "    print(num1,num2,end=' ')\n",
    "    for i in range(size-2):\n",
    "        temp = num1 + num2\n",
    "        print(temp, end=' ')\n",
    "        num1=num2\n",
    "        num2=temp\n",
    "        \n"
   ]
  },
  {
   "cell_type": "markdown",
   "metadata": {},
   "source": [
    "### Write a Program to check if a number is prime or not\n"
   ]
  },
  {
   "cell_type": "code",
   "execution_count": 28,
   "metadata": {},
   "outputs": [
    {
     "name": "stdout",
     "output_type": "stream",
     "text": [
      "4\n",
      "not prime\n"
     ]
    }
   ],
   "source": [
    "check=int(input())\n",
    "flag=0\n",
    "cval=int(check**.5)\n",
    "for i in range(2,cval+1):\n",
    "    if(check%i==0):\n",
    "        flag=1\n",
    "        break;\n",
    "if flag==1:\n",
    "    print(\"not prime\")\n",
    "else:\n",
    "    print(\"prime\")"
   ]
  },
  {
   "cell_type": "markdown",
   "metadata": {},
   "source": [
    "### Write a program that accepts two strings and outputs the concatenation of them.\n",
    "\n"
   ]
  },
  {
   "cell_type": "code",
   "execution_count": 1,
   "metadata": {},
   "outputs": [],
   "source": [
    "#lets use funtions to solve this one\n",
    "def concatanate(string1,string2):\n",
    "    return string1+string2\n",
    "\n"
   ]
  },
  {
   "cell_type": "code",
   "execution_count": 3,
   "metadata": {},
   "outputs": [
    {
     "name": "stdout",
     "output_type": "stream",
     "text": [
      "rohit\n",
      "sharma\n",
      "rohitsharma\n"
     ]
    }
   ],
   "source": [
    "name = input()\n",
    "surname = input()\n",
    "full_name = concatanate(name,surname)\n",
    "\n",
    "print(full_name)"
   ]
  },
  {
   "cell_type": "markdown",
   "metadata": {},
   "source": [
    "### Find the length of a string using loops"
   ]
  },
  {
   "cell_type": "code",
   "execution_count": 14,
   "metadata": {},
   "outputs": [],
   "source": [
    "# lets use function to solve this one\n",
    "\n",
    "def find_length(string):\n",
    "    length = 0 \n",
    "    for letter in string:\n",
    "        length+=1\n",
    "\n",
    "    return length"
   ]
  },
  {
   "cell_type": "code",
   "execution_count": 16,
   "metadata": {},
   "outputs": [
    {
     "name": "stdout",
     "output_type": "stream",
     "text": [
      "rohan\n"
     ]
    },
    {
     "data": {
      "text/plain": [
       "5"
      ]
     },
     "execution_count": 16,
     "metadata": {},
     "output_type": "execute_result"
    }
   ],
   "source": [
    "string = input()\n",
    "\n",
    "\n",
    "find_length(string)"
   ]
  },
  {
   "cell_type": "code",
   "execution_count": null,
   "metadata": {},
   "outputs": [],
   "source": []
  }
 ],
 "metadata": {
  "kernelspec": {
   "display_name": "Python 3",
   "language": "python",
   "name": "python3"
  },
  "language_info": {
   "codemirror_mode": {
    "name": "ipython",
    "version": 3
   },
   "file_extension": ".py",
   "mimetype": "text/x-python",
   "name": "python",
   "nbconvert_exporter": "python",
   "pygments_lexer": "ipython3",
   "version": "3.7.3"
  }
 },
 "nbformat": 4,
 "nbformat_minor": 2
}
